{
 "cells": [
  {
   "cell_type": "markdown",
   "metadata": {},
   "source": [
    "**Neural Networks** is a widely used tool in many fields. It incorporates a collection of neurons and connects them into a network to learn and predict patterns. This notebook will walk through the basics of Artificial Neural Network, and built a typical three layer network in Python from scratch."
   ]
  },
  {
   "cell_type": "markdown",
   "metadata": {},
   "source": [
    "**First, let's discuss about the architecture of the Neural Networks. Below is a diagram depicting a three layer network.**"
   ]
  },
  {
   "cell_type": "markdown",
   "metadata": {},
   "source": [
 