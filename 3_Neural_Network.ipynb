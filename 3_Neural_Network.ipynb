{
 "cells": [
  {
   "cell_type": "markdown",
   "metadata": {},
   "source": [
    "**Neural Networks** is a widely used tool in many fields. It incorporates a collection of neurons and connects them into a network to learn and predict patterns. This notebook will walk through the basics of Artificial Neural Network, and built a typical three layer network in Python from scratch."
   ]
  },
  {
   "cell_type": "markdown",
   "metadata": {},
   "source": [
    "**First, let's discuss about the architecture of the Neural Networks. Below is a diagram depicting a three layer network.**"
   ]
  },
  {
   "cell_type": "markdown",
   "metadata": {},
   "source": [
    "<img src=\"./Pictures/NN_1.PNG\" width=450 height=300>"
   ]
  },
  {
   "cell_type": "markdown",
   "metadata": {},
   "source": [
    "Neural Networks usually have three types of layers. The first layer is called the **input layer**. The last layer is named the **output layer**, which produces values computed by the hypothesis. The layers in the middle are referred to as the **hidden layers**. We can identify more than 1 hidden layer."
   ]
  },
  {
   "cell_type": "markdown",
   "metadata": {},
   "source": [
    "The **nodes** in the input layer basically represents the features of the model, i.e. $X_1, X_2,..., X_n$. It is also good practice to add a **bias node**, $X_0$, to the input layer."
   ]
  },
  {
   "cell_type": "markdown",
   "metadata": {},
   "source": [
    "For each node in the hidden layers, it 1) takes the inputs from either the input layer or the previous hidden layer, 2) computes the output value based on weights and activation function associated with the node, and 3) sends output to the next layer."
   ]
  },
  {
   "cell_type": "markdown",
   "metadata": {},
   "source": [
    "The nodes in the outpyut layer calculate final values for the hypothesis. In a classification problem, the number of nodes in the output layer is equal to number of classes."
   ]
  },
  {
   "cell_type": "markdown",
   "metadata": {},
   "source": [
    "**Now, let's define some notations.**"
   ]
  },
  {
   "cell_type": "markdown",
   "metadata": {},
   "source": [
    "***$L$***: total number of layers\n",
    "\n",
    "***$S_l$***: total number of nodes in layer $l$\n",
    "\n",
    "***$\\Theta^{(l)}$***: weight matrix controlling the mapping from layer $l$ to layer $l+1$"
   ]
  },
  {
   "cell_type": "markdown",
   "metadata": {},
   "source": [
    "We can write down the elements of this metrix $\\Theta^{(l)}$:"
   ]
  },
  {
   "cell_type": "markdown",
   "metadata": {},
   "source": [
    "$$\\begin{bmatrix}\n",
    "  \\Theta_{10}^{(l)} & \\Theta_{11}^{(l)} & \\dots & \\Theta_{1S_l}^{(l)} \\\\\n",
    "  \\Theta_{20}^{(l)} & \\Theta_{21}^{(l)} & \\dots & \\Theta_{2S_l}^{(l)} \\\\\n",
    "  \\vdots & \\vdots & \\ddots & \\vdots \\\\\n",
    "  \\Theta_{S_{l+1}0}^{(l)} & \\Theta_{S_{l+1}1}^{(l)} & \\dots & \\Theta_{S_{l+1}S_l}^{(l)}\n",
    "  \\end{bmatrix}$$"
   ]
  },
  {
   "cell_type": "markdown",
   "metadata": {},
   "source": [
    "Specifically, element $\\Theta_{ji}^{(l)}$ stands for the weight (parameter) from $i^{th}$ node in layer $l$ to $j^{th}$ node in layer $l+1$"
   ]
  },
  {
   "cell_type": "markdown",
   "metadata": {},
   "source": [
    "We can then define the **\"activation\"** of the node:"
   ]
  },
  {
   "cell_type": "markdown",
   "metadata": {},
   "source": [
    "***$a_i^{(l)}$***: activation of node $i$ in layer $l$"
   ]
  },
  {
   "cell_type": "markdown",
   "metadata": {},
   "source": [
    "Here the **\"activation\"** means the computed value output by each node."
   ]
  },
  {
   "cell_type": "markdown",
   "metadata": {},
   "source": [
    "To calculate the activation of each node, we need three things:\n",
    "\n",
    "- The in