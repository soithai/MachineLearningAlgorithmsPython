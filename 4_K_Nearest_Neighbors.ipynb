
{
 "cells": [
  {
   "cell_type": "markdown",
   "metadata": {},
   "source": [
    "**K Nearest Neighbor (KNN)** is a popular non-parametric method. The prediction (for regression/classification) is obtained by looking into the K closest memorized examples."
   ]
  },
  {
   "cell_type": "markdown",
   "metadata": {
    "collapsed": true
   },
   "source": [
    "The algorithm itself can be summarized into three steps:\n",
    "\n",
    "- Select a positive integer K along with a new example\n",
    "\n",
    "- Select K entries in the training databse which are closest to the new example\n",
    "\n",
    "- For regression problem, we perform an average or weighted average of the response of these closest training examples to make the prediction. For classification scenarios, we do a majority vote within the traning entries to assign the label to the new example"
   ]
  },
  {
   "cell_type": "markdown",
   "metadata": {},
   "source": [
    "The following class **KNearestNeighbors()** implements this idea."
   ]
  },
  {
   "cell_type": "code",
   "execution_count": 1,
   "metadata": {
    "collapsed": false
   },
   "outputs": [],
   "source": [
    "import numpy as np\n",
    "import operator\n",
    "\n",
    "class KNearestNeighbors():\n",
    "\n",
    "    def __init__(self, k, model_type='regression', weights='uniform'):\n",
    "\n",
    "        # model_type can be either 'classification' or 'regression'\n",
    "        # weights = 'uniform', the K nearest neighbors are equally weighted\n",
    "        # weights = 'distance', the K nearest entries are weighted by inverse of the distance\n",
    "        self.model_type = model_type\n",
    "        self.k = k\n",
    "        self.weights = weights\n",
    "        self.X_train = None\n",
    "        self.y_train = None\n",
    "\n",
    "    def _dist(self, example1, example2):\n",
    "\n",
    "        # calculate euclidean distance between two examples\n",
    "        if len(example1) != len(example2):\n",
    "            print \"Inconsistent Dimension!\"\n",
    "            return\n",
    "\n",
    "        return np.sqrt(sum(np.power(np.array(example1) - np.array(example2), 2)))\n",
    "\n",
    "    def _find_neighbors(self, test_instance):\n",
    "\n",
    "        # find K nearest neighbors for a test instance\n",
    "        # this function return a list of K nearest neighbors for this test instance,\n",
    "        # each element of the list is another list of distance and target\n",
    "        m, n = self.X_train.shape\n",
    "        neighbors = [[self._dist(self.X_train[i, :], test_instance), self.y_train[i]]\n",
    "                     for i in range(m)]\n",
    "        neighbors.sort(key=lambda x: x[0])\n",
    "        return neighbors[:self.k]\n",
    "\n",
    "    def fit(self, X, y):\n",
    "\n",
    "        # no parameters learning in model fitting process for KNN\n",
    "        # just to store all the training instances\n",
    "        self.X_train = X\n",
    "        self.y_train = y\n",
    "\n",
    "        return self\n",
    "\n",
    "    def predict(self, X):\n",
    "\n",
    "        # predict using KNN algorithm\n",
    "        X = np.array(X)\n",