{
 "cells": [
  {
   "cell_type": "markdown",
   "metadata": {},
   "source": [
    "**Principal Component Analysis (PCA)** is widely used in Machine Learning pipelines as a means to compress data or help visualization. This notebook aims to walk through the basic idea of the PCA and build the algorithm from scratch in Python."
   ]
  },
  {
   "cell_type": "markdown",
   "metadata": {},
   "source": [
    "Before diving directly into the PCA, let's first talk about several import concepts - the **\"eigenvectors & eigenvalues\"** and **\"Singular Value Decomposition (SVD)\"**."
   ]
  },
  {
   "cell_type": "markdown",
   "metadata": {},
   "source": [
    "An **eigenvector** of a square matrix is a column vector that satisfies:\n",
    "\n",
    "$$Av=\\lambda v$$\n",
    "\n",
    "Where A is a $[n\\times n]$ square matrix, v is a $[n\\times 1]$ **eigenvector**, and $\\lambda$ is a scalar value which is also known as the **eigenvalue**."
   ]
  },
  {
   "cell_type": "markdown",
   "metadata": {},
   "source": [
    "If A is both a square and symmetric matrix (like a typical variance-covariance matrix), then we can write A as:\n",
    "\n",
    "$$A=U\\Sigma U^T$$\n",
    "\n",
    "Here columns of matrix U are eigenvectors of matrix A; and $\\Sigma$ is a diaonal matrix containing the corresponding eigenvalues. \n",
    "\n",
    "This is also a special case of the well-known theorem **\"Singular Value Decomposition\" (SVD)**, where a rectangular matrix M can be expressed as:\n",
    "\n",
    "$$M=U\\Sigma V^T$$"
   ]
  },
  {
   "cell_type": "markdown",
   "metadata": {},
   "source": [
    "####With SVD, we can calcuate the eigenvectors and eigenvalues of a square & symmetric matrix. This will be the key to solve the PCA. "
   ]
  },
  {
   "cell_type": "markdown",
   "metadata": {},
   "source": [
    "The goal of the PCA is to find a lower dimension surface to maxmize total variance of the projection, or in other means, to minimize the projection error. The entire algorithm can be summarized as the following:\n",
    "\n",
    "1) Given a data matrix **$X$** with **$m$** rows (number of records) and **$n$** columns (number of dimensions), we should first substract the column mean for each dimension.\n",
    "\n",
    "2) Then we can calculate the variance-covariance matrix using the equation (X here already has zero mean for each column from step 1):"
   ]
  },
  {
   "cell_type": "markdown",
   "metadata": {},
   "source": [
    "$$cov=\\frac{1}{m}X^TX$$"
   ]
  },
  {
   "cell_type": "markdown",
   "metadata": {},
   "source": [
    "3) We can then use SVD to compute the eigenvectors and corresponding eigenvalues of the above covariance matrix \"$cov$\":"
   ]
  },
  {
   "cell_type": "markdown",
   "metadata": {},
   "source": [
    "$$cov=U\\Sigma U^T$$"
   ]
  },
  {
   "cell_type": "markdown",
   "metadata": {},
   "source": [
    "4) If our target dimension is $p$ ($p<n$), then we will select the first $p$ columns of the $U$ matrix and get matrix $U_{reduce}$.\n",
    "\n",
    "5) To get the compressed data set, we can do the transformation as below:"
   ]
  },
  {
   "cell_type": "markdown",
   "metadata": {},
   "source": [
    "$$X_{reduce}=XU_{reduce}$$"
   ]
  },
  {
   "cell_type": "markdown",
   "metadata": {},
   "source": [
    "6) To appoximate the original data set given the compressed data, we can use:"
   ]
  },
  {
   "cell_type": "markdown",
   "metadata": {},
   "source": [
    "$$X=X_{reduce}U_{reduce}^T$$"
   ]
  },
  {
   "cell_type": "markdown",
   "metadata": {},
   "source": [
    "Note this is true because $U_{reduce}^{-1}=U_{reduce}^T$ (in this case, all the eigenvectors are unit vectors)."
   ]
  },
  {
   "cell_type": "markdown",
   "metadata": {},
   "source": [
    "####In practice, it is also important to choose the proper number of principal components. For data compression, we want to retain as much variation in the original data while reducing the dimension. Luckily, with SVD, we can get a estimate of the retained variation by:"
   ]
  },
  {
   "cell_type": "markdown",
   "metadata": {},
   "source": [
    "$$\\%\\ of\\ variance\\ retained = \\frac{\\sum_{i=1}^{p}S_{ii}}{\\sum_{i=1}^{n}S_{ii}}$$"
   ]
  },
  {
   "cell_type": "markdown",
   "metadata": {},
   "source": [
    "Where $S_{ii}$ is the $ith$ diagonal element of the $\\Sigma$ matrix, $p$ is the number of reduced dimension, and $n$ is the dimension of the original data."
   ]
  },
  {
   "cell_type": "markdown",
   "metadata": {},
   "source": [
    "####For data visulization purposes, we usually choose 2 or 3 dimensions to plot the compressed data."
   ]
  },
  {
   "cell_type": "markdown",
   "metadata": {},
   "source": [
    "####The following class PCA() implements the idea of principal component analysis."
   ]
  },
  {
   "cell_type": "code",
   "execution_count": 1,
   "metadata": {
    "collapsed": true
   },
   "outputs": [],
   "source": [
    "import numpy as np\n",
    "\n",
    "class PCA():\n",
    "\n",
    "    def __init__(self, num_components):\n",
    "\n",
    "        self.num_components = num_components\n",
    "        self.U = None\n",
    "        self.S = None\n",
    "\n",
    "    def fit(self, X):\n",
    "\n",
    "        # perform pca\n",
    "        m = X.shape[0]\n",
    "        X_mean = np.mean(X, axis=0)\n",
    "        X -= X_mean\n",
    "        cov = X.T.dot(X) * 1.0 / m\n",
    "        self.U, self.S, _ = np.linalg.svd(cov)\n",
    "\n",
    "        return self\n",
    "\n",
    "    def project(self, X):\n",
    "\n",
    "        # project data based on reduced dimension\n",
    "        U_reduce = self.U[:, :self.num_components]\n",
    "        X_reduce =  X.dot(U_reduce)\n",
    "\n",
    "        return X_reduce\n",
    "\n",
    "    def inverse(self, X_reduce):\n",
    "\n",
    "        # recover the original data based on the reduced form\n",
    "        U_reduce = self.U[:, :self.num_components]\n",
    "        X = X_reduce.dot(U_reduce.T)\n",
    "\n",
    "        return X\n",
    "\n",
    "    def explained_variance(self):\n",
    "\n",
    "        # print the ratio of explained variance with the pca\n",
    "        explained = np.sum(self.S[:self.num_components])\n",
    "        total = np.sum(self.S)\n",
    "\n",
    "        return explained * 1.0 / total"
   ]
  },
  {
   "cell_type": "markdown",
   "metadata": {},
   "source": [
    "####Now we can use a demo data set to show dimensionality reduction and data visualization. "
   ]
  },
  {
   "cell_type": "markdown",
   "metadata": {},
   "source": [
    "We will use the Iris Data set as always."
   ]
  },
  {
   "cell_type": "code",
   "execution_count": 2,
   "metadata": {
    "collapsed": false
   },
   "outputs": [
    {
     "name": "stdout",
     "output_type": "stream",
     "text": [
      "(150L, 4L)\n"
     ]
    }
   ],
   "source": [
    "from sklearn.datasets import load_iris\n",
    "iris = load_iris()\n",
    "\n",
    "X = iris['data']\n",
    "y = iris['target']\n",
    "\n",
    "print X.shape"
   ]
  },
  {
   "cell_type": "markdown",
   "metadata": {},
   "source": [
    "We can find that the dimension of the original $X$ matrix is 4. We can then compress it to 2 using PCA technique with the **PCA()** class that we defined above."
   ]
  },
  {
   "cell_type": "code",
   "execution_count": 3,
   "metadata": {
    "collapsed": false
   },
   "outputs": [
    {
     "name": "stdout",
     "output_type": "stream",
     "text": [
      "(150L, 2L)\n"
     ]
    }
   ],
   "source": [
    "pca = PCA(num_components=2)\n",
    "pca.fit(X)\n",
    "\n",
    "X_reduce = pca.project(X)\n",
    "print X_reduce.shape"
   ]
  },
  {
   "cell_type": "markdown",
   "metadata": {},
   "source": [
    "Now that the data has been compressed, we can check the ratianed variance."
   ]
  },
  {
   "cell_type": "code",
   "execution_count": 4,
   "metadata": {
    "collapsed": false
   },
   "outputs": [
    {
     "name": "stdout",
     "output_type": "stream",
     "text": [
      "97.76%\n"
     ]
    }
   ],
   "source": [
    "print \"{:.2%}\".format(pca.explained_variance())"
   ]
  },
  {
   "cell_type": "markdown",
   "metadata": {},
   "source": [
    "We have 97.76% of variance retained. This is okay for data visulization purposes. But if we used PCA in supervised learning pipelines, we might want to add more dimension to keep more than 99% of the variation from the original data."
   ]
  },
  {
   "cell_type": "markdown",
   "metadata": {},
   "source": [
    "Finally, with the compressed dimension, we can plot to see the distribution of iris dataset."
   ]
  },
  {
   "cell_type": "code",
   "execution_count": 5,
   "metadata": {
    "collapsed": false
   },
   "outputs": [
    {
     "name": "stdout",
     "output_type": "stream",
     "text": [
      "Populating the interactive namespace from numpy and matplotlib\n"
     ]
    },
    {
     "data": {
      "image/png": "iVBORw0KGgoAAAANSUhEUgAAAmgAAAF/CAYAAAD91DX3AAAABHNCSVQICAgIfAhkiAAAAAlwSFlz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\nk5r3nUn3BZIY51xz8pIse7Y0dkQkdErQRCQiWq6mtb0uT